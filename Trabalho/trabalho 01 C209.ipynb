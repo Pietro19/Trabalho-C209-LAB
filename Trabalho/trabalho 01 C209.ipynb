{
 "cells": [
  {
   "cell_type": "code",
   "execution_count": 4,
   "id": "1978984a",
   "metadata": {},
   "outputs": [
    {
     "name": "stdout",
     "output_type": "stream",
     "text": [
      "pygame 2.1.2 (SDL 2.0.18, Python 3.10.2)\n",
      "Hello from the pygame community. https://www.pygame.org/contribute.html\n"
     ]
    }
   ],
   "source": [
    "import pygame\n",
    "\n",
    "pygame.init()\n",
    "window = pygame.display.set_mode((500, 150))\n",
    "clock = pygame.time.Clock()\n",
    "\n",
    "font = pygame.font.SysFont(None, 100)\n",
    "#text = font.render('Hello World', False, (255, 0, 0))\n",
    "text = font.render('Hello World', True, (255, 0, 0))\n",
    "\n",
    "background = pygame.Surface(window.get_size())\n",
    "ts, w, h, c1, c2 = 50, *window.get_size(), (128, 128, 128), (64, 64, 64)\n",
    "tiles = [((x*ts, y*ts, ts, ts), c1 if (x+y) % 2 == 0 else c2) for x in range((w+ts-1)//ts) for y in range((h+ts-1)//ts)]\n",
    "for rect, color in tiles:\n",
    "    pygame.draw.rect(background, color, rect)\n",
    "\n",
    "run = True\n",
    "while run:\n",
    "    clock.tick(60)\n",
    "    for event in pygame.event.get():\n",
    "        if event.type == pygame.QUIT:\n",
    "            run = False\n",
    "\n",
    "    window.blit(background, (0, 0))\n",
    "    window.blit(text, text.get_rect(center = window.get_rect().center))\n",
    "    pygame.display.flip()\n",
    "\n",
    "pygame.quit()\n",
    "exit()"
   ]
  },
  {
   "cell_type": "code",
   "execution_count": null,
   "id": "73acd0df",
   "metadata": {},
   "outputs": [],
   "source": []
  }
 ],
 "metadata": {
  "kernelspec": {
   "display_name": "Python 3 (ipykernel)",
   "language": "python",
   "name": "python3"
  },
  "language_info": {
   "codemirror_mode": {
    "name": "ipython",
    "version": 3
   },
   "file_extension": ".py",
   "mimetype": "text/x-python",
   "name": "python",
   "nbconvert_exporter": "python",
   "pygments_lexer": "ipython3",
   "version": "3.10.2"
  }
 },
 "nbformat": 4,
 "nbformat_minor": 5
}
